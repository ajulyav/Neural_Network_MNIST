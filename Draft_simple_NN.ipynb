{
  "nbformat": 4,
  "nbformat_minor": 0,
  "metadata": {
    "colab": {
      "name": "Draft_simple_NN.ipynb",
      "version": "0.3.2",
      "views": {},
      "default_view": {},
      "provenance": []
    },
    "kernelspec": {
      "name": "python2",
      "display_name": "Python 2"
    },
    "accelerator": "GPU"
  },
  "cells": [
    {
      "metadata": {
        "id": "39CpwxTAluFl",
        "colab_type": "text"
      },
      "cell_type": "markdown",
      "source": [
        "# Simple Neural Network for MNIST Recognition\n"
      ]
    },
    {
      "metadata": {
        "id": "Ea0TVJ3EmBLo",
        "colab_type": "text"
      },
      "cell_type": "markdown",
      "source": [
        "This is a draft of a simple neural network with 2 layers for recognition numbers in the pictures from MNIST collection"
      ]
    },
    {
      "metadata": {
        "id": "m-HLZdvLmOF5",
        "colab_type": "code",
        "colab": {
          "autoexec": {
            "startup": false,
            "wait_interval": 0
          }
        }
      },
      "cell_type": "code",
      "source": [
        "from tensorflow.python.keras.datasets import mnist\n",
        "\n",
        "from tensorflow.python.keras.models import Sequential\n",
        "from tensorflow.python.keras.layers import Dense\n",
        "from tensorflow.python.keras import utils\n",
        "from scipy.misc import toimage\n",
        "\n",
        "import numpy as np\n",
        "import matplotlib.pyplot as plt\n",
        "\n",
        "%matplotlib inline "
      ],
      "execution_count": 0,
      "outputs": []
    },
    {
      "metadata": {
        "id": "DBVl6-eKm_46",
        "colab_type": "text"
      },
      "cell_type": "markdown",
      "source": [
        "### Preprocessing data"
      ]
    },
    {
      "metadata": {
        "id": "fIrVw1rxnUgU",
        "colab_type": "text"
      },
      "cell_type": "markdown",
      "source": [
        "**Load data**"
      ]
    },
    {
      "metadata": {
        "id": "lLBP3-jdnjys",
        "colab_type": "code",
        "colab": {
          "autoexec": {
            "startup": false,
            "wait_interval": 0
          }
        }
      },
      "cell_type": "code",
      "source": [
        "(X_train, y_train), (X_test, y_test) = mnist.load_data()"
      ],
      "execution_count": 0,
      "outputs": []
    },
    {
      "metadata": {
        "id": "9I4hu-gAoNRc",
        "colab_type": "text"
      },
      "cell_type": "markdown",
      "source": [
        "**Print the initial shape of data**\n",
        "\n",
        "Each image is 28 pixels in height and 28 pixels in width, the numder of train pictures is 60 000, the number of test pictures is 10 000"
      ]
    },
    {
      "metadata": {
        "id": "KZdnNP8noYS1",
        "colab_type": "code",
        "colab": {
          "autoexec": {
            "startup": false,
            "wait_interval": 0
          },
          "base_uri": "https://localhost:8080/",
          "height": 51
        },
        "outputId": "02e83a93-4d16-4751-eadd-5a3fbaed7d9f",
        "executionInfo": {
          "status": "ok",
          "timestamp": 1523197916504,
          "user_tz": -180,
          "elapsed": 740,
          "user": {
            "displayName": "Юля Алексеенко",
            "photoUrl": "https://lh3.googleusercontent.com/a/default-user=s128",
            "userId": "118415210628700577274"
          }
        }
      },
      "cell_type": "code",
      "source": [
        "\n",
        "print('X_test original shape:', X_test.shape)"
      ],
      "execution_count": 0,
      "outputs": [
        {
          "output_type": "stream",
          "text": [
            "('X_train original shape:', (60000, 28, 28))\n",
            "('X_test original shape:', (10000, 28, 28))\n"
          ],
          "name": "stdout"
        }
      ]
    },
    {
      "metadata": {
        "id": "ZPOi_39RpI8U",
        "colab_type": "text"
      },
      "cell_type": "markdown",
      "source": [
        "**Reshape the data**"
      ]
    },
    {
      "metadata": {
        "id": "B9zC4sDCpj8b",
        "colab_type": "code",
        "colab": {
          "autoexec": {
            "startup": false,
            "wait_interval": 0
          }
        }
      },
      "cell_type": "code",
      "source": [
        "X_train = X_train.reshape(60000, 784)\n",
        "X_test = X_test.reshape(10000, 784)"
      ],
      "execution_count": 0,
      "outputs": []
    },
    {
      "metadata": {
        "id": "PFNYfTJKp3kg",
        "colab_type": "text"
      },
      "cell_type": "markdown",
      "source": [
        "**Normalize the data**"
      ]
    },
    {
      "metadata": {
        "id": "VoGJnKM_qHsi",
        "colab_type": "code",
        "colab": {
          "autoexec": {
            "startup": false,
            "wait_interval": 0
          }
        }
      },
      "cell_type": "code",
      "source": [
        "X_train = X_train.astype('float32') / 255.\n",
        "X_test = X_test.astype('float32') / 255."
      ],
      "execution_count": 0,
      "outputs": []
    },
    {
      "metadata": {
        "id": "9irsu2GrqVl1",
        "colab_type": "text"
      },
      "cell_type": "markdown",
      "source": [
        "**Print the shape of data after preprocessing**\n"
      ]
    },
    {
      "metadata": {
        "id": "JViW9tWzqd2t",
        "colab_type": "code",
        "colab": {
          "autoexec": {
            "startup": false,
            "wait_interval": 0
          },
          "base_uri": "https://localhost:8080/",
          "height": 51
        },
        "outputId": "374dbcac-0c83-4b1b-b2b6-0ea2c5773895",
        "executionInfo": {
          "status": "ok",
          "timestamp": 1523197947122,
          "user_tz": -180,
          "elapsed": 771,
          "user": {
            "displayName": "Юля Алексеенко",
            "photoUrl": "https://lh3.googleusercontent.com/a/default-user=s128",
            "userId": "118415210628700577274"
          }
        }
      },
      "cell_type": "code",
      "source": [
        "print('X_train shape:', X_train.shape)\n",
        "print('X_train shape:', X_test.shape)\n"
      ],
      "execution_count": 0,
      "outputs": [
        {
          "output_type": "stream",
          "text": [
            "('X_train shape:', (60000, 784))\n",
            "('X_train shape:', (10000, 784))\n"
          ],
          "name": "stdout"
        }
      ]
    },
    {
      "metadata": {
        "id": "6o9Pld_rr5FU",
        "colab_type": "text"
      },
      "cell_type": "markdown",
      "source": [
        "**# One Hot Encoding**\n",
        "\n",
        "This step helps turn data to 10 separate features were all of them are equal 0 except the one which equals 1.\n"
      ]
    },
    {
      "metadata": {
        "id": "d0x9pvfnsaMV",
        "colab_type": "code",
        "colab": {
          "autoexec": {
            "startup": false,
            "wait_interval": 0
          },
          "base_uri": "https://localhost:8080/",
          "height": 34
        },
        "outputId": "5a1023e2-f4ae-4462-ab3c-cdf76dd5345d",
        "executionInfo": {
          "status": "ok",
          "timestamp": 1523198376360,
          "user_tz": -180,
          "elapsed": 760,
          "user": {
            "displayName": "Юля Алексеенко",
            "photoUrl": "https://lh3.googleusercontent.com/a/default-user=s128",
            "userId": "118415210628700577274"
          }
        }
      },
      "cell_type": "code",
      "source": [
        "n = 50\n",
        "\n",
        "Y_train = utils.to_categorical(y_train, 10)\n",
        "Y_test = utils.to_categorical(y_test, 10)\n",
        "\n",
        "print(Y_train[n])"
      ],
      "execution_count": 0,
      "outputs": [
        {
          "output_type": "stream",
          "text": [
            "[0. 0. 0. 1. 0. 0. 0. 0. 0. 0.]\n"
          ],
          "name": "stdout"
        }
      ]
    },
    {
      "metadata": {
        "id": "Vq9MKvuhtA7b",
        "colab_type": "text"
      },
      "cell_type": "markdown",
      "source": [
        "### Building Neural Network"
      ]
    },
    {
      "metadata": {
        "id": "3CIffbl_tOpJ",
        "colab_type": "text"
      },
      "cell_type": "markdown",
      "source": [
        "**Build a Sequential Model**"
      ]
    },
    {
      "metadata": {
        "id": "HMvLXXWOtXNK",
        "colab_type": "code",
        "colab": {
          "autoexec": {
            "startup": false,
            "wait_interval": 0
          }
        }
      },
      "cell_type": "code",
      "source": [
        "model = Sequential()"
      ],
      "execution_count": 0,
      "outputs": []
    },
    {
      "metadata": {
        "id": "x492fhk6uAgB",
        "colab_type": "text"
      },
      "cell_type": "markdown",
      "source": [
        "**Create network layers**"
      ]
    },
    {
      "metadata": {
        "id": "igSKVh6JuK2z",
        "colab_type": "code",
        "colab": {
          "autoexec": {
            "startup": false,
            "wait_interval": 0
          }
        }
      },
      "cell_type": "code",
      "source": [
        "model.add(Dense(900, input_dim=784, activation=\"relu\"))\n",
        "\n",
        "model.add(Dense(10, activation=\"softmax\"))"
      ],
      "execution_count": 0,
      "outputs": []
    },
    {
      "metadata": {
        "id": "68XEG5fSubm9",
        "colab_type": "text"
      },
      "cell_type": "markdown",
      "source": [
        "**Compile this model**"
      ]
    },
    {
      "metadata": {
        "id": "RNTdTJTAufLT",
        "colab_type": "code",
        "colab": {
          "autoexec": {
            "startup": false,
            "wait_interval": 0
          },
          "base_uri": "https://localhost:8080/",
          "height": 289
        },
        "outputId": "4606b35d-9a85-40a1-eb56-e13cd4faeacb",
        "executionInfo": {
          "status": "ok",
          "timestamp": 1523198858343,
          "user_tz": -180,
          "elapsed": 785,
          "user": {
            "displayName": "Юля Алексеенко",
            "photoUrl": "https://lh3.googleusercontent.com/a/default-user=s128",
            "userId": "118415210628700577274"
          }
        }
      },
      "cell_type": "code",
      "source": [
        "model.compile(loss=\"categorical_crossentropy\", optimizer=\"adam\", metrics=[\"accuracy\"])\n",
        "\n",
        "print(model.summary())"
      ],
      "execution_count": 0,
      "outputs": [
        {
          "output_type": "stream",
          "text": [
            "_________________________________________________________________\n",
            "Layer (type)                 Output Shape              Param #   \n",
            "=================================================================\n",
            "dense_1 (Dense)              (None, 800)               628000    \n",
            "_________________________________________________________________\n",
            "dense_2 (Dense)              (None, 10)                8010      \n",
            "_________________________________________________________________\n",
            "dense_3 (Dense)              (None, 900)               9900      \n",
            "_________________________________________________________________\n",
            "dense_4 (Dense)              (None, 10)                9010      \n",
            "=================================================================\n",
            "Total params: 654,920\n",
            "Trainable params: 654,920\n",
            "Non-trainable params: 0\n",
            "_________________________________________________________________\n",
            "None\n"
          ],
          "name": "stdout"
        }
      ]
    },
    {
      "metadata": {
        "id": "MS5Z9tSzunse",
        "colab_type": "text"
      },
      "cell_type": "markdown",
      "source": [
        "### Training Neural Network"
      ]
    },
    {
      "metadata": {
        "id": "EifHpwgJut-V",
        "colab_type": "code",
        "colab": {
          "autoexec": {
            "startup": false,
            "wait_interval": 0
          },
          "base_uri": "https://localhost:8080/",
          "height": 544
        },
        "outputId": "739dd2d8-3587-42c9-adbb-2d5f55476e83",
        "executionInfo": {
          "status": "ok",
          "timestamp": 1523199026708,
          "user_tz": -180,
          "elapsed": 29707,
          "user": {
            "displayName": "Юля Алексеенко",
            "photoUrl": "https://lh3.googleusercontent.com/a/default-user=s128",
            "userId": "118415210628700577274"
          }
        }
      },
      "cell_type": "code",
      "source": [
        "history = model.fit(X_train, Y_train, batch_size=200, epochs=15, validation_split=0.2, verbose=2)"
      ],
      "execution_count": 0,
      "outputs": [
        {
          "output_type": "stream",
          "text": [
            "Train on 48000 samples, validate on 12000 samples\n",
            "Epoch 1/15\n",
            " - 2s - loss: 0.0057 - acc: 0.9984 - val_loss: 0.1332 - val_acc: 0.9753\n",
            "Epoch 2/15\n",
            " - 2s - loss: 0.0090 - acc: 0.9971 - val_loss: 0.1502 - val_acc: 0.9742\n",
            "Epoch 3/15\n",
            " - 2s - loss: 0.0087 - acc: 0.9974 - val_loss: 0.1404 - val_acc: 0.9747\n",
            "Epoch 4/15\n",
            " - 2s - loss: 0.0049 - acc: 0.9985 - val_loss: 0.1293 - val_acc: 0.9777\n",
            "Epoch 5/15\n",
            " - 2s - loss: 0.0018 - acc: 0.9995 - val_loss: 0.1308 - val_acc: 0.9775\n",
            "Epoch 6/15\n",
            " - 2s - loss: 0.0096 - acc: 0.9973 - val_loss: 0.1552 - val_acc: 0.9711\n",
            "Epoch 7/15\n",
            " - 2s - loss: 0.0146 - acc: 0.9957 - val_loss: 0.1297 - val_acc: 0.9762\n",
            "Epoch 8/15\n",
            " - 2s - loss: 0.0056 - acc: 0.9985 - val_loss: 0.1280 - val_acc: 0.9771\n",
            "Epoch 9/15\n",
            " - 2s - loss: 0.0044 - acc: 0.9985 - val_loss: 0.1236 - val_acc: 0.9779\n",
            "Epoch 10/15\n",
            " - 2s - loss: 0.0042 - acc: 0.9989 - val_loss: 0.1236 - val_acc: 0.9794\n",
            "Epoch 11/15\n",
            " - 2s - loss: 0.0011 - acc: 0.9998 - val_loss: 0.1140 - val_acc: 0.9798\n",
            "Epoch 12/15\n",
            " - 2s - loss: 4.4131e-04 - acc: 0.9999 - val_loss: 0.1231 - val_acc: 0.9784\n",
            "Epoch 13/15\n",
            " - 2s - loss: 9.6418e-04 - acc: 0.9997 - val_loss: 0.1173 - val_acc: 0.9793\n",
            "Epoch 14/15\n",
            " - 2s - loss: 0.0020 - acc: 0.9994 - val_loss: 0.1354 - val_acc: 0.9765\n",
            "Epoch 15/15\n",
            " - 2s - loss: 0.0172 - acc: 0.9950 - val_loss: 0.1560 - val_acc: 0.9719\n"
          ],
          "name": "stdout"
        }
      ]
    },
    {
      "metadata": {
        "id": "E8rQAJg7vNIX",
        "colab_type": "text"
      },
      "cell_type": "markdown",
      "source": [
        "### Evaluating Test Data"
      ]
    },
    {
      "metadata": {
        "id": "TJ4NFsQKvdr5",
        "colab_type": "text"
      },
      "cell_type": "markdown",
      "source": [
        "**Check the accuracy of this neural network on test data**"
      ]
    },
    {
      "metadata": {
        "id": "seWFR19Dvxqm",
        "colab_type": "code",
        "colab": {
          "autoexec": {
            "startup": false,
            "wait_interval": 0
          },
          "base_uri": "https://localhost:8080/",
          "height": 34
        },
        "outputId": "b3af5c3a-1ee8-4be3-8cbd-082963c540b2",
        "executionInfo": {
          "status": "ok",
          "timestamp": 1523199223919,
          "user_tz": -180,
          "elapsed": 1122,
          "user": {
            "displayName": "Юля Алексеенко",
            "photoUrl": "https://lh3.googleusercontent.com/a/default-user=s128",
            "userId": "118415210628700577274"
          }
        }
      },
      "cell_type": "code",
      "source": [
        "scores = model.evaluate(X_test, Y_test, verbose=0)\n",
        "print(\"Accuracy on test data: %.2f%%\" % (scores[1]*100))"
      ],
      "execution_count": 0,
      "outputs": [
        {
          "output_type": "stream",
          "text": [
            "Accuracy on test data: 97.38%\n"
          ],
          "name": "stdout"
        }
      ]
    },
    {
      "metadata": {
        "id": "dyv5GNeNwEGI",
        "colab_type": "text"
      },
      "cell_type": "markdown",
      "source": [
        "**The graph showing the accuracy**"
      ]
    },
    {
      "metadata": {
        "id": "3bTwtBCcwNh5",
        "colab_type": "code",
        "colab": {
          "autoexec": {
            "startup": false,
            "wait_interval": 0
          },
          "base_uri": "https://localhost:8080/",
          "height": 279
        },
        "outputId": "5dc760cf-1ac7-4f1d-eb67-10734ebd70c5",
        "executionInfo": {
          "status": "ok",
          "timestamp": 1523199356932,
          "user_tz": -180,
          "elapsed": 855,
          "user": {
            "displayName": "Юля Алексеенко",
            "photoUrl": "https://lh3.googleusercontent.com/a/default-user=s128",
            "userId": "118415210628700577274"
          }
        }
      },
      "cell_type": "code",
      "source": [
        "history_dict = history.history\n",
        "acc_values = history_dict['acc']\n",
        "val_acc_values = history_dict['val_acc']\n",
        "epochs = range(1, len(acc_values) + 1)\n",
        "plt.plot(epochs, acc_values, 'bo', label='Training acc')\n",
        "plt.plot(epochs, val_acc_values, 'b', label='Validation acc')\n",
        "plt.xlabel('Epochs')\n",
        "plt.ylabel('Accuracy')\n",
        "plt.legend()\n",
        "plt.show()"
      ],
      "execution_count": 0,
      "outputs": [
        {
          "output_type": "display_data",
          "data": {
            "image/png": "[encoded data removed]",
            "text/plain": [
              "<matplotlib.figure.Figure at 0x7fb21a1ff4d0>"
            ]
          },
          "metadata": {
            "tags": []
          }
        }
      ]
    },
    {
      "metadata": {
        "id": "eAK4_IPNxyHv",
        "colab_type": "text"
      },
      "cell_type": "markdown",
      "source": [
        "### Recognition"
      ]
    },
    {
      "metadata": {
        "id": "oNhYB1Enx5DC",
        "colab_type": "code",
        "colab": {
          "autoexec": {
            "startup": false,
            "wait_interval": 0
          }
        }
      },
      "cell_type": "code",
      "source": [
        "num_pic = 50"
      ],
      "execution_count": 0,
      "outputs": []
    },
    {
      "metadata": {
        "id": "C3C10vKFyC9M",
        "colab_type": "text"
      },
      "cell_type": "markdown",
      "source": [
        "**Change image dimension and normalize it**"
      ]
    },
    {
      "metadata": {
        "id": "2vvzV59AyMRB",
        "colab_type": "code",
        "colab": {
          "autoexec": {
            "startup": false,
            "wait_interval": 0
          }
        }
      },
      "cell_type": "code",
      "source": [
        "x = X_test[num_pic]\n",
        "x = np.expand_dims(x, axis=0)"
      ],
      "execution_count": 0,
      "outputs": []
    },
    {
      "metadata": {
        "id": "gY3FSVNfyUWh",
        "colab_type": "text"
      },
      "cell_type": "markdown",
      "source": [
        "**Recognition**"
      ]
    },
    {
      "metadata": {
        "id": "WzhgMnpTyWrQ",
        "colab_type": "code",
        "colab": {
          "autoexec": {
            "startup": false,
            "wait_interval": 0
          }
        }
      },
      "cell_type": "code",
      "source": [
        "prediction = model.predict(x)"
      ],
      "execution_count": 0,
      "outputs": []
    },
    {
      "metadata": {
        "id": "E9FOVX55yabR",
        "colab_type": "code",
        "colab": {
          "autoexec": {
            "startup": false,
            "wait_interval": 0
          },
          "base_uri": "https://localhost:8080/",
          "height": 51
        },
        "outputId": "d9017a16-c87e-400d-fb7e-80b7d67b52cb",
        "executionInfo": {
          "status": "ok",
          "timestamp": 1523200008021,
          "user_tz": -180,
          "elapsed": 792,
          "user": {
            "displayName": "Юля Алексеенко",
            "photoUrl": "https://lh3.googleusercontent.com/a/default-user=s128",
            "userId": "118415210628700577274"
          }
        }
      },
      "cell_type": "code",
      "source": [
        "print(prediction)"
      ],
      "execution_count": 0,
      "outputs": [
        {
          "output_type": "stream",
          "text": [
            "[[1.0618000e-05 1.8044128e-07 2.6126149e-16 2.8116516e-18 5.8542896e-06\n",
            "  1.4446065e-03 9.9829453e-01 1.3988204e-10 2.4419211e-04 6.4418098e-09]]\n"
          ],
          "name": "stdout"
        }
      ]
    },
    {
      "metadata": {
        "id": "zm-yFngcyhqD",
        "colab_type": "text"
      },
      "cell_type": "markdown",
      "source": [
        "**Back from one hot encoding**"
      ]
    },
    {
      "metadata": {
        "id": "4VWxCP55ysBs",
        "colab_type": "code",
        "colab": {
          "autoexec": {
            "startup": false,
            "wait_interval": 0
          },
          "base_uri": "https://localhost:8080/",
          "height": 34
        },
        "outputId": "62a0c7c2-b677-4d00-8575-c6c833b5407c",
        "executionInfo": {
          "status": "ok",
          "timestamp": 1523200009743,
          "user_tz": -180,
          "elapsed": 715,
          "user": {
            "displayName": "Юля Алексеенко",
            "photoUrl": "https://lh3.googleusercontent.com/a/default-user=s128",
            "userId": "118415210628700577274"
          }
        }
      },
      "cell_type": "code",
      "source": [
        "prediction = np.argmax(prediction)\n",
        "print(prediction)"
      ],
      "execution_count": 0,
      "outputs": [
        {
          "output_type": "stream",
          "text": [
            "6\n"
          ],
          "name": "stdout"
        }
      ]
    },
    {
      "metadata": {
        "id": "MO9OwPIOyvl8",
        "colab_type": "text"
      },
      "cell_type": "markdown",
      "source": [
        "**Print right answer**"
      ]
    },
    {
      "metadata": {
        "id": "i7_qSn_OyzYn",
        "colab_type": "code",
        "colab": {
          "autoexec": {
            "startup": false,
            "wait_interval": 0
          },
          "base_uri": "https://localhost:8080/",
          "height": 34
        },
        "outputId": "5b5f81fa-cd3d-4b8d-de97-6d378d401b53",
        "executionInfo": {
          "status": "ok",
          "timestamp": 1523200011877,
          "user_tz": -180,
          "elapsed": 918,
          "user": {
            "displayName": "Юля Алексеенко",
            "photoUrl": "https://lh3.googleusercontent.com/a/default-user=s128",
            "userId": "118415210628700577274"
          }
        }
      },
      "cell_type": "code",
      "source": [
        "print(y_test[num_pic])"
      ],
      "execution_count": 0,
      "outputs": [
        {
          "output_type": "stream",
          "text": [
            "6\n"
          ],
          "name": "stdout"
        }
      ]
    }
  ]
}